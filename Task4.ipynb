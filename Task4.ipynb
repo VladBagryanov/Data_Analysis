{
  "cells": [
    {
      "cell_type": "markdown",
      "metadata": {
        "id": "Kb_PVxXaW2Qy"
      },
      "source": [
        "# <a href=\"https://miptstats.github.io/courses/ad_fivt.html\">Введение в анализ данных</a>\n",
        "## Домашнее задание 4. Нейронные сети.\n"
      ]
    },
    {
      "cell_type": "markdown",
      "metadata": {
        "id": "duMi1QifW2Qz"
      },
      "source": [
        "**Правила, <font color=\"red\">прочитайте внимательно</font>:**\n",
        "\n",
        "* Выполненную работу нужно отправить телеграм-боту `@miptstats_ds24_bot`. Для начала работы с ботом каждый раз отправляйте `/start`. **Работы, присланные иным способом, не принимаются.**\n",
        "* Дедлайн см. в боте. После дедлайна работы не принимаются кроме случаев наличия уважительной причины.\n",
        "* Прислать нужно **ноутбук в формате `ipynb`**.\n",
        "* Следите за размером файлов. **Бот не может принимать файлы весом более 20 Мб.** Если файл получается больше, заранее разделите его на несколько.\n",
        "* Выполнять задание необходимо полностью самостоятельно. **При обнаружении списывания все участники списывания будут сдавать устный зачет.**\n",
        "* Решения, размещенные на каких-либо интернет-ресурсах, не принимаются. Кроме того, публикация решения в открытом доступе может быть приравнена к предоставлении возможности списать.\n",
        "* Для выполнения задания используйте этот ноутбук в качестве основы, ничего не удаляя из него. Можно добавлять необходимое количество ячеек.\n",
        "* Комментарии к решению пишите в markdown-ячейках.\n",
        "* Выполнение задания (ход решения, выводы и пр.) должно быть осуществлено на русском языке.\n",
        "* Если код будет не понятен проверяющему, оценка может быть снижена.\n",
        "* Никакой код из данного задания при проверке запускаться не будет. *Если код студента не выполнен, недописан и т.д., то он не оценивается.*\n",
        "\n",
        "**Правила оформления теоретических задач:**\n",
        "\n",
        "* Решения необходимо прислать одним из следующих способов:\n",
        "  * фотографией в правильной ориентации, где все четко видно, а почерк разборчив,\n",
        "    * отправив ее как файл боту вместе с ноутбуком *или*\n",
        "    * вставив ее в ноутбук посредством `Edit -> Insert Image`;\n",
        "  * в виде $LaTeX$ в markdown-ячейках.\n",
        "* Решения не проверяются, если какое-то требование не выполнено. Особенно внимательно все проверьте в случае выбора второго пункта (вставки фото в ноутбук). <font color=\"red\"><b>Неправильно вставленные фотографии могут не передаться при отправке.</b></font> Для проверки попробуйте переместить `ipynb` в другую папку и открыть его там.\n",
        "* В решениях поясняйте, чем вы пользуетесь, хотя бы кратко. Например, если пользуетесь независимостью, то достаточно подписи вида \"*X и Y незав.*\"\n",
        "* Решение, в котором есть только ответ, и отсутствуют вычисления, оценивается в 0 баллов.\n",
        "\n",
        "\n",
        "\n",
        "\n",
        "\n",
        "**Баллы за задание:**\n",
        "\n",
        "<b><font color=\"blue\">Легкая часть</font></b> (достаточно на \"хор\"):\n",
        "* Задача 1 &mdash; 60 баллов\n",
        "* Задача 2 &mdash; 30 баллов\n",
        "\n",
        "<b><font color=\"orange\">Сложная часть</font></b> (необходимо на \"отл\"):\n",
        "* Задача 3 &mdash; 60 баллов\n"
      ]
    },
    {
      "cell_type": "code",
      "execution_count": null,
      "metadata": {
        "id": "pWZ4wmCvW2Q0"
      },
      "outputs": [],
      "source": [
        "# Bot check\n",
        "\n",
        "# HW_ID: fpmi_ad4\n",
        "# Бот проверит этот ID и предупредит, если случайно сдать что-то не то.\n",
        "\n",
        "# Status: final\n",
        "# Перед отправкой в финальном решении удали \"not\" в строчке выше.\n",
        "# Так бот проверит, что ты отправляешь финальную версию, а не промежуточную.\n",
        "# Никакие значения в этой ячейке не влияют на факт сдачи работы."
      ]
    },
    {
      "cell_type": "code",
      "execution_count": null,
      "metadata": {
        "id": "ht9Xm0EucoAr"
      },
      "outputs": [],
      "source": [
        "import numpy as np\n",
        "import scipy.stats as sps\n",
        "\n",
        "import matplotlib.pyplot as plt\n",
        "import seaborn as sns\n",
        "\n",
        "sns.set(font_scale=1.2, palette='Set2')\n",
        "%matplotlib inline"
      ]
    },
    {
      "cell_type": "markdown",
      "metadata": {
        "id": "2M__0kK2W2Q1"
      },
      "source": [
        "Перед выполнением задания обязательно посмотрите <a href=\"https://miptstats.github.io/courses/ad_fivt/lecture4.pdf\" target=\"_blank\">презентацию</a> и <a href=\"https://miptstats.github.io/courses/ad_fivt/nn_simple_examples.html\" target=\"_blank\">обучающий ноутбук</a> с занятия по нейронным сетям."
      ]
    },
    {
      "cell_type": "markdown",
      "metadata": {
        "id": "NtWewpfoLl5S"
      },
      "source": [
        "---\n",
        "### <font color=\"blue\"><i>Легкая часть</i></font>"
      ]
    },
    {
      "cell_type": "markdown",
      "metadata": {
        "id": "x-9Z1rmVW2Q1"
      },
      "source": [
        "---\n",
        "### Задача 1.\n",
        "\n",
        "Рассмотрим двухслойную нейронную сеть, которая принимает на вход $x\\in\\mathbb{R}$ и возвращает $y\\in\\mathbb{R}$. Выход первого слоя возвращает $u \\in\\mathbb{R}^2$. После первого слоя используется функция активации $\\sigma(x) = \\frac{1}{1 + \\exp(-x)}$, после второго слоя функция активации не используется (или используется тождественная). Тем самым нашу нейронную можно представить в виде\n",
        "\n",
        "$$\\widehat{y}(x) = \\sum_{h=1}^2 w_{2h}u_h(x) + b_2,$$\n",
        "\n",
        "$$u_h(x) = \\sigma(w_{1h}x + b_{1h}),$$\n",
        "\n",
        "$$\\text{где} \\; h \\in \\{1, 2\\}.$$\n",
        "\n"
      ]
    },
    {
      "cell_type": "markdown",
      "metadata": {
        "id": "4eii8MGZW2Q1"
      },
      "source": [
        "**1.** Нарисуйте схематически данную нейронную сеть. Сколько у нее обучаемых параметров?"
      ]
    },
    {
      "cell_type": "markdown",
      "metadata": {
        "id": "REawtgDJW2Q1"
      },
      "source": [
        "Входной слой -> Скрытый слой -> Выходной слой\n",
        "У нее 9 обучаемых параметров: 6 весов$(w_{1h}, w_{2h})$ и 3 смещения $(b_{1h}, b_2)$."
      ]
    },
    {
      "cell_type": "markdown",
      "metadata": {
        "id": "b8DZXIx7W2Q2"
      },
      "source": [
        "**2.** Пусть нам дана обучающая выборка $(X_1, Y_1), ..., (X_n, Y_n)$, где $X_i \\in \\mathbb{R}$ и $Y_i \\in \\mathbb{R}$. Нейронная сеть обучается по этой выборке, минимизируя заданную функцию $L$ &mdash; функцию ошибки. Положим, что $L$ &mdash; это MSE:\n",
        "$$\\text{MSE} = L(X, Y) = \\frac{1}{n}\\sum_{i=1}^n \\big(Y_i - \\widehat{y}(X_i)\\big)^2.$$\n",
        "\n",
        "Наша задача &mdash; найти оптимальные параметры нашей модели для минимизации $L(X, Y)$ на заданном наборе данных. Мы будем решать эту задачу с помощью градиентного спуска. Для этого нам понадобится выписать производные по всем параметрам сети. Конечно, в данном случае довольно просто выписать все производные напрямую. Однако мы воспользуемся следующей хитростью: мы будем считать производные поэтапно, причем начнем с конца вычислительной цепочки и, используя формулу производной сложной функции, последовательно посчитаем все необходимые производные. Этот процесс называется методом **обратного распространения ошибки (backpropagation)**."
      ]
    },
    {
      "cell_type": "markdown",
      "metadata": {
        "id": "sns2ZZArW2Q2"
      },
      "source": [
        "**2.1.** Начнем с производной MSE по выходам сети\n",
        "$$\\frac{\\partial\\:\\text{MSE}}{\\partial \\widehat{y}(X_i)} = \\; \\frac{2}{n}\\sum_{i=1}^n \\big(\\widehat{y}(X_i) - Y_i ).$$"
      ]
    },
    {
      "cell_type": "markdown",
      "metadata": {
        "id": "mN2TO-MAW2Q2"
      },
      "source": [
        "**2.2** Возьмем производные выходов сети по параметрам последнего слоя\n",
        "\n",
        "$$\\frac{\\partial \\widehat{y}(X_i)}{\\partial w_{2h}} = u_h(X_i)\\; $$\n",
        "\n",
        "$$\\frac{\\partial \\widehat{y}(X_i)}{\\partial b_2} = 1\\; $$\n",
        "\n",
        "Также выпишем производные выходов сети по входам последнего слоя\n",
        "\n",
        "$$\\frac{\\partial \\widehat{y}(X_i)}{\\partial u_h(X_i)} = w_{2h}(x)\\; $$\n",
        "\n",
        "Теперь выпишем производные MSE по параметрам и входам последнего слоя. Для этого вспомните правило производной сложной функции из математического анализа. Обратите внимание на то, что нам не нужно прописывать все производные до конца, достаточно заполнить пропуски в записи ниже:\n",
        "\n",
        "$$\\frac{\\partial\\:\\text{MSE}}{\\partial w_{2h}} = \\sum_{i=1}^n \\frac{\\partial\\:\\text{MSE}}{\\partial \\widehat{y}(X_i)} \\frac{\\partial \\widehat{y}(X_i)}{\\partial w_{2h}}$$\n",
        "\n",
        "$$\\frac{\\partial\\:\\text{MSE}}{\\partial b_2} = \\sum_{i=1}^n \\frac{\\partial\\:\\text{MSE}}{\\partial \\widehat{y}(X_i)} \\frac{\\partial \\widehat{y}(X_i)}{\\partial b_2}$$\n",
        "\n",
        "$$\\frac{\\partial\\:\\text{MSE}}{\\partial u_h} = \\sum_{i=1}^n \\frac{\\partial\\:\\text{MSE}}{\\partial \\widehat{y}(X_i)} \\frac{\\partial \\widehat{y}(X_i)}{\\partial u_h}$$"
      ]
    },
    {
      "cell_type": "markdown",
      "metadata": {
        "id": "u4_alAF5W2Q2"
      },
      "source": [
        "**2.2.** Теперь будем разбираться с производными по параметрам первого слоя.\n",
        "\n",
        "Для начала нам пригодится производная функции активации, запишите ее так, чтобы ответе осталась функция от $\\sigma(x)$\n",
        "\n",
        "$$\\frac{\\partial\\:\\sigma(x)}{\\partial x} = \\; \\sigma(x)(1 - \\sigma(x))$$\n",
        "\n",
        "Теперь возьмем производные выходов первого слоя по его параметрам\n",
        "\n",
        "$$\\frac{\\partial u_h(X_i)}{\\partial w_{1h}} = \\; x\\sigma(w_{1h}x + b_{1h})(1 - \\sigma(w_{1h}x + b_{1h}))$$\n",
        "\n",
        "$$\\frac{\\partial u_h(X_i)}{\\partial b_{1h}} = \\; \\sigma(w_{1h}x + b_{1h})(1 - \\sigma(w_{1h}x + b_{1h}))$$\n",
        "\n",
        "Наконец, выпишем производные MSE по параметрам первого слоя. Так же как и раньше достаточно заполнить пропуски в записи ниже\n",
        "\n",
        "$$\\frac{\\partial\\:\\text{MSE}}{\\partial w_{1h}} = \\; \\sum_{i=1}^n \\frac{\\partial\\:\\text{MSE}}{\\partial u_h(X_i)} \\frac{\\partial u_h(X_i)}{\\partial w_{1h}}$$\n",
        "\n",
        "$$\\frac{\\partial\\:\\text{MSE}}{\\partial b_{1h}} = \\; \\sum_{i=1}^n \\frac{\\partial\\:\\text{MSE}}{\\partial u_h(X_i)} \\frac{\\partial u_h(X_i)}{\\partial b_{1h}}$$"
      ]
    },
    {
      "cell_type": "markdown",
      "metadata": {
        "id": "T9TejlitW2Q2"
      },
      "source": [
        "**3.** Пусть обучающая выборка очень большая. Что нужно делать в таком случае? Запишите, как нужно поменять правило обновления параметров.\n",
        "\n",
        "В случае очень большой обучающей выборки можно использовать стохастический градиентный спуск. Правило обновления параметров также можно изменить, например, уменьшая скорость обучения (learning rate) с увеличением размера выборки."
      ]
    },
    {
      "cell_type": "markdown",
      "metadata": {
        "id": "a_EvDaB7W2Q2"
      },
      "source": [
        "**Вывод:**\n",
        "В этой задачи мы посчитали производные необходимые для написания нейросети с использованием метода обратного расспространения ошибки. Его удобно использовать в нейросетях, так как подсчет градиентов для каждого параметра требует очень много времени при большом числе параметров и данных."
      ]
    },
    {
      "cell_type": "markdown",
      "metadata": {
        "id": "hwaX8xRXW2Q3"
      },
      "source": [
        "---\n",
        "### Задача 2.\n",
        "\n",
        "Напишите нейронную сеть из задачи 1 с помощью библиотеки `pytorch`, используя Sequential-стиль. Перед выполнением задачи рекомендуется посмотреть <a href=\"https://miptstats.github.io/courses/ad_fivt/nn_simple_examples.html#3.-Готовые-модули-из-PyTorch\" target=\"_blank\">ноутбук</a> с занятия. Функция активации реализована как `torch.nn.Sigmoid`.\n",
        "\n",
        "*Внимание.* Для выполнения задачи потребуется установить библиотеку `pytorch`. Альтернативный вариант &mdash; выполнение в <a href=\"https://colab.research.google.com\" target=\"_blank\">Google Colab</a>. Учитывайте, что при длительном бездействии Colab может сам завершить работу ядра."
      ]
    },
    {
      "cell_type": "code",
      "execution_count": null,
      "metadata": {
        "id": "R03tSHFoW2Q4"
      },
      "outputs": [],
      "source": [
        "import torch\n",
        "from torch import nn"
      ]
    },
    {
      "cell_type": "markdown",
      "metadata": {
        "id": "t1_H2ptPW2Q3"
      },
      "source": [
        "Сгенерируем данные. Возьмите какую-либо нелинейную функцию $y(x)$."
      ]
    },
    {
      "cell_type": "markdown",
      "source": [
        "Возьмем функцию $y(x) = exp(x)$"
      ],
      "metadata": {
        "id": "p-V55ausgiqK"
      }
    },
    {
      "cell_type": "code",
      "execution_count": null,
      "metadata": {
        "id": "nIB7KwUMW2Q3"
      },
      "outputs": [],
      "source": [
        "sample_size = int(1e6)\n",
        "x = sps.norm.rvs(size=(sample_size, 1))\n",
        "#y = torch.tensor(np.squeeze(np.sqrt(abs(x))))\n",
        "y = torch.tensor(np.squeeze(np.exp(x)))\n",
        "assert y.shape == (sample_size, )"
      ]
    },
    {
      "cell_type": "markdown",
      "metadata": {
        "id": "JLhEEGwOW2Q4"
      },
      "source": [
        "Обучите нейросеть на этих данных. Используйте код с занятия."
      ]
    },
    {
      "cell_type": "code",
      "execution_count": null,
      "metadata": {
        "id": "TGAZcfvNW2Q4",
        "colab": {
          "base_uri": "https://localhost:8080/"
        },
        "outputId": "c5bba7d2-fdfa-4f7d-87d9-22fc7ea27d98"
      },
      "outputs": [
        {
          "output_type": "execute_result",
          "data": {
            "text/plain": [
              "Sequential(\n",
              "  (0): Linear(in_features=1, out_features=2, bias=True)\n",
              "  (1): Sigmoid()\n",
              "  (2): Linear(in_features=2, out_features=1, bias=True)\n",
              ")"
            ]
          },
          "metadata": {},
          "execution_count": 164
        }
      ],
      "source": [
        "# собираем модули в последовательность\n",
        "model = nn.Sequential(\n",
        "    # кол-во признаков во входном слое 1, в выходном тоже 2\n",
        "    nn.Linear(in_features=1, out_features=2),\n",
        "    nn.Sigmoid(),\n",
        "    # кол-во признаков во входном слое 2, в выходном тоже 1\n",
        "    nn.Linear(in_features=2, out_features=1)\n",
        ")\n",
        "\n",
        "model"
      ]
    },
    {
      "cell_type": "code",
      "source": [
        "x_new = torch.from_numpy(x).reshape(-1, 1)\n",
        "x_new = x_new.to(torch.float32)\n",
        "x_new.shape\n",
        "y_new = y.reshape(-1, 1)\n",
        "y_new = y_new.to(torch.float32)"
      ],
      "metadata": {
        "id": "j0LLCoiIMYHL"
      },
      "execution_count": null,
      "outputs": []
    },
    {
      "cell_type": "markdown",
      "source": [
        "Разделим данные на test и train, чтобы посчитать MSE на тестовой части"
      ],
      "metadata": {
        "id": "qPaU5Wmmg5S-"
      }
    },
    {
      "cell_type": "code",
      "source": [
        "from sklearn.model_selection import train_test_split\n",
        "\n",
        "x_train, x_test, y_train, y_test = train_test_split(x_new, y_new, test_size=0.33, random_state=42)"
      ],
      "metadata": {
        "id": "G9LfZ1JVg5FP"
      },
      "execution_count": null,
      "outputs": []
    },
    {
      "cell_type": "code",
      "source": [
        "for p in model.parameters():\n",
        "    p.data = torch.FloatTensor([[1]])\n",
        "    print(p.data)"
      ],
      "metadata": {
        "colab": {
          "base_uri": "https://localhost:8080/"
        },
        "id": "CQ42U8EoMZ1e",
        "outputId": "a13a0833-ec4a-44e0-84d4-9cc4008a8e7e"
      },
      "execution_count": null,
      "outputs": [
        {
          "output_type": "stream",
          "name": "stdout",
          "text": [
            "tensor([[1.]])\n",
            "tensor([[1.]])\n",
            "tensor([[1.]])\n",
            "tensor([[1.]])\n"
          ]
        }
      ]
    },
    {
      "cell_type": "code",
      "source": [
        "optimizer = torch.optim.SGD(model.parameters(), lr=0.01)\n",
        "optim_func = nn.MSELoss()"
      ],
      "metadata": {
        "id": "sxXVWgsWMldl"
      },
      "execution_count": null,
      "outputs": []
    },
    {
      "cell_type": "code",
      "source": [
        "from IPython.display import clear_output\n",
        "\n",
        "# функция вывода исходной функции и полученного приближения\n",
        "def show_progress(x, y, y_pred, x_legend, y_legend, loss):\n",
        "    y_pred = y_pred.detach()\n",
        "    loss = loss.item()\n",
        "    clear_output(wait=True)\n",
        "\n",
        "    plt.figure(figsize=(10, 7))\n",
        "    plt.scatter(x, y, alpha=0.75)\n",
        "    plt.scatter(x, y_pred, color='orange', linewidth=2)\n",
        "    plt.xlabel(x_legend)\n",
        "    plt.title(y_legend)\n",
        "    plt.show()\n",
        "\n",
        "    print(f\"MSE = {loss:.3f}\")"
      ],
      "metadata": {
        "id": "1m0OQ44d_u9P"
      },
      "execution_count": null,
      "outputs": []
    },
    {
      "cell_type": "code",
      "source": [
        "def learning(model, optimizer, optim_func, X_train, Y_train, num_iter = 10):\n",
        "    for i in range(num_iter):\n",
        "        # Forward pass: предсказание модели по данным x_new\n",
        "        y_pred = model(x_new)\n",
        "        # Вычисление оптимизируемой функции (MSE) по предсказаниям\n",
        "        loss = optim_func(y_pred, y_new)\n",
        "        # Bakcward pass: вычисление градиентов оптимизируемой функции\n",
        "        # по всем параметрам модели\n",
        "        loss.backward()\n",
        "        # Оптимизация: обновление параметров по формулам соответствующего\n",
        "        # метода оптимизации, используются вычисленные ранее градиенты\n",
        "        optimizer.step()\n",
        "        # Зануление градиентов\n",
        "        optimizer.zero_grad()\n",
        "\n",
        "        # График\n",
        "    show_progress(x, y, y_pred, 'x_value', 'y_value', loss)"
      ],
      "metadata": {
        "id": "8HJ_lf27MtgU"
      },
      "execution_count": null,
      "outputs": []
    },
    {
      "cell_type": "code",
      "source": [
        "learning(model, optimizer, optim_func, x_train, y_train, 10000)"
      ],
      "metadata": {
        "id": "EfKQSiGVRIxl",
        "colab": {
          "base_uri": "https://localhost:8080/",
          "height": 523
        },
        "outputId": "0d67c87f-4d5f-4a81-d6c9-04016382e109"
      },
      "execution_count": null,
      "outputs": [
        {
          "output_type": "display_data",
          "data": {
            "text/plain": [
              "<Figure size 1000x700 with 1 Axes>"
            ],
            "image/png": "[encoded data removed]"
          },
          "metadata": {}
        },
        {
          "output_type": "stream",
          "name": "stdout",
          "text": [
            "MSE = 0.587\n"
          ]
        }
      ]
    },
    {
      "cell_type": "markdown",
      "source": [
        "Визуализируйте предсказания и посчитайте MSE на тестовой части данных."
      ],
      "metadata": {
        "id": "9MO9FNUDRFSJ"
      }
    },
    {
      "cell_type": "code",
      "source": [
        "y_pred = model(x_test)\n",
        "loss = optim_func(y_pred, y_test)\n",
        "show_progress(x_test, y_test, y_pred, 'x_value', 'y_value', loss)"
      ],
      "metadata": {
        "colab": {
          "base_uri": "https://localhost:8080/",
          "height": 523
        },
        "id": "8aKJ8RHEiH8_",
        "outputId": "1f6c353a-f314-47e8-d662-74494638cf60"
      },
      "execution_count": null,
      "outputs": [
        {
          "output_type": "display_data",
          "data": {
            "text/plain": [
              "<Figure size 1000x700 with 1 Axes>"
            ],
            "image/png": "[encoded data removed]"
          },
          "metadata": {}
        },
        {
          "output_type": "stream",
          "name": "stdout",
          "text": [
            "MSE = 0.535\n"
          ]
        }
      ]
    },
    {
      "cell_type": "markdown",
      "metadata": {
        "id": "zPoMmyGgW2Q3"
      },
      "source": [
        "**Вывод:** Использованная нейросеть с большой точностью предсказала линейную часть зависимости, но плохо себя показала на быстро меняющейся части. При этом модель показала схожие результаты на обучающей и тестовой выборке."
      ]
    },
    {
      "cell_type": "markdown",
      "metadata": {
        "id": "RRw1Pk9ZM4Wn"
      },
      "source": [
        "---\n",
        "### <font color=\"orange\"><i>Сложная часть</i></font>"
      ]
    },
    {
      "cell_type": "code",
      "source": [],
      "metadata": {
        "id": "gLGyASPQhnA4"
      },
      "execution_count": null,
      "outputs": []
    },
    {
      "cell_type": "markdown",
      "metadata": {
        "id": "EWHsMVWwW2Q2"
      },
      "source": [
        "---\n",
        "### Задача 3.\n",
        "\n",
        "Теперь реализуйте класс нейронной сети из задачи 1 в стиле scikit-learn, например, см. <a href=\"https://miptstats.github.io/courses/ad_fivt/task3.html#Задача-4.\" target=\"_blank\">шаблон класса задачи 4 из задания 3</a>. Предусмотрите возможность обучения по случайным батчам. При реализации можно использовать только библиотеку `numpy`."
      ]
    },
    {
      "cell_type": "code",
      "execution_count": null,
      "metadata": {
        "id": "4tXV_LMcW2Q2"
      },
      "outputs": [],
      "source": []
    },
    {
      "cell_type": "markdown",
      "metadata": {
        "id": "iLvOp4K8W2Q3"
      },
      "source": [
        "Обучите нейронную сеть на рассмотренных ранее данных, а также простую линейную регрессию. Для линейной регрессии стоит взять реализацию из `sklearn`. Сравните эту нейросеть, линейную регрессию и pytorch-сеть из задачи 2."
      ]
    },
    {
      "cell_type": "code",
      "execution_count": null,
      "metadata": {
        "id": "Mitew_VaW2Q3"
      },
      "outputs": [],
      "source": []
    },
    {
      "cell_type": "markdown",
      "metadata": {
        "id": "6NmNpWkPW2Q3"
      },
      "source": [
        "Визуализируйте предсказания данных моделей и посчитайте MSE на тестовой части данных."
      ]
    },
    {
      "cell_type": "code",
      "execution_count": null,
      "metadata": {
        "id": "r2OEQK6JW2Q3"
      },
      "outputs": [],
      "source": []
    },
    {
      "cell_type": "markdown",
      "metadata": {
        "id": "j-_6rkdkW2Q3"
      },
      "source": [
        "Повторите вычисления для другой нелинейной функции $y(x)$."
      ]
    },
    {
      "cell_type": "code",
      "execution_count": null,
      "metadata": {
        "id": "1GJuV0dfW2Q3"
      },
      "outputs": [],
      "source": []
    },
    {
      "cell_type": "markdown",
      "metadata": {
        "id": "CtVD-MTtW2Q4"
      },
      "source": [
        "**Вывод:**\n",
        "..."
      ]
    }
  ],
  "metadata": {
    "colab": {
      "provenance": []
    },
    "kernelspec": {
      "display_name": "Python 3",
      "language": "python",
      "name": "python3"
    },
    "language_info": {
      "codemirror_mode": {
        "name": "ipython",
        "version": 3
      },
      "file_extension": ".py",
      "mimetype": "text/x-python",
      "name": "python",
      "nbconvert_exporter": "python",
      "pygments_lexer": "ipython3",
      "version": "3.8.10"
    }
  },
  "nbformat": 4,
  "nbformat_minor": 0
}
